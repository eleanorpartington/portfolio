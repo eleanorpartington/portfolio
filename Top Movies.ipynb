{
 "cells": [
  {
   "cell_type": "markdown",
   "id": "a6a9bcde",
   "metadata": {},
   "source": [
    "# Creating a Top Movies DataFrame\n",
    "\n",
    "## Introduction \n",
    "\n",
    "I am going to create a DataFrame of the top 50 pages of Movies ordered by average voted score listed using an API from TMDB. I will also then clean the DataFrame, checking for duplicates, appropriate data types, and null values before saving it as a csv file ready for analysis. \n",
    "\n",
    "My aim is to create repeatable code that can save a DataFrame to analyse at a later date, doing this also allows me to conduct analysis seperate to the data collection, and also allows me to conduct multiple rounds of data collection and analyse differences in voted score over time.\n",
    " \n",
    "### Importing libraires that we will be using"
   ]
  },
  {
   "cell_type": "code",
   "execution_count": 1,
   "id": "d7b31baa",
   "metadata": {},
   "outputs": [],
   "source": [
    "from datetime import datetime\n",
    "import pandas as pd\n",
    "import requests\n",
    "import json\n",
    "import time"
   ]
  },
  {
   "cell_type": "markdown",
   "id": "d750c538",
   "metadata": {},
   "source": [
    " ## Setting up the API\n",
    " \n",
    " After going onto the TMDB website and signed up to gain an authorization code to be able to use the API, I started off with the basic API request script provided for the Top Movies list endpoint. I modified the query parameters to sort the movies by the average score voted (giving us the top movies by *vote_average*), where the average vote was greater than 7.5, and there was at least 300 votes that made up the score. I also chose to exclude *documentary* and *TV Movie* genres.\n",
    " \n",
    " When running the query against the API endpoint, we can see that it returns 20 movies per page. I created a `for` loop to get all the top 50 pages of movies. Within the `for` loop, we convert the json response into a dictionary. We then insert each movie from the response into a `movies` dictionary using the *tmdb_id* as the key. By doing this, we are able to deduplicate the data we receive. It is possible for this to happen if ratings change in between our requests to the API. After the data collection, we turn the `movies` dictionary into a list for easier consumption.\n",
    " \n",
    " As this is a lot to ask the TMDB server to send us, we have added a sleep query of 0.025 seconds between each request since they have stated on their [website](https://developer.themoviedb.org/docs/rate-limiting) that they accept up to around 50 requests per second with this subject to change. Therefore our 0.025 second break means that we are requesting up to a maximum of 40 requests per second. Getting 50 pages could take a while, so on each loop I print which page it has requested so we have a visual track of how the request is going. "
   ]
  },
  {
   "cell_type": "code",
   "execution_count": 2,
   "id": "6db476b8",
   "metadata": {
    "scrolled": true
   },
   "outputs": [
    {
     "name": "stdout",
     "output_type": "stream",
     "text": [
      "1\n",
      "2\n",
      "3\n",
      "4\n",
      "5\n",
      "6\n",
      "7\n",
      "8\n",
      "9\n",
      "10\n",
      "11\n",
      "12\n",
      "13\n",
      "14\n",
      "15\n",
      "16\n",
      "17\n",
      "18\n",
      "19\n",
      "20\n",
      "21\n",
      "22\n",
      "23\n",
      "24\n",
      "25\n",
      "26\n",
      "27\n",
      "28\n",
      "29\n",
      "30\n",
      "31\n",
      "32\n",
      "33\n",
      "34\n",
      "35\n",
      "36\n",
      "37\n",
      "38\n",
      "39\n",
      "40\n",
      "41\n",
      "42\n",
      "43\n",
      "44\n",
      "45\n",
      "46\n",
      "47\n",
      "48\n",
      "49\n",
      "50\n"
     ]
    }
   ],
   "source": [
    "movies = {}\n",
    "\n",
    "with open('access_code.json') as f:\n",
    "    data = json.load(f)\n",
    "    access = data['authorisation']\n",
    "\n",
    "for i in range(1, 51):\n",
    "    url = f\"https://api.themoviedb.org/3/discover/movie?include_adult=false&include_video=false&language=en-US&page={i}&sort_by=vote_average.desc&vote_average.gte=7.5&vote_count.gte=300&without_genres=99%2C10770\"\n",
    "    headers = {\n",
    "        \"accept\": \"application/json\",\n",
    "        \"Authorization\": f\"Bearer {access}\"\n",
    "    }\n",
    "    response = requests.get(url, headers=headers)\n",
    "    page = json.loads(response.text)\n",
    "    for movie in page['results']:\n",
    "        movies[movie['id']] = movie\n",
    "    print(i)\n",
    "    time.sleep(0.025)\n",
    "\n",
    "movies = list(movies.values())"
   ]
  },
  {
   "cell_type": "code",
   "execution_count": 3,
   "id": "49ba1421",
   "metadata": {},
   "outputs": [
    {
     "name": "stdout",
     "output_type": "stream",
     "text": [
      "[{'adult': False, 'backdrop_path': '/kXfqcdQKsToO0OUXHcrrNCHDBzO.jpg', 'genre_ids': [18, 80], 'id': 278, 'original_language': 'en', 'original_title': 'The Shawshank Redemption', 'overview': 'Framed in the 1940s for the double murder of his wife and her lover, upstanding banker Andy Dufresne begins a new life at the Shawshank prison, where he puts his accounting skills to work for an amoral warden. During his long stretch in prison, Dufresne comes to be admired by the other inmates -- including an older prisoner named Red -- for his integrity and unquenchable sense of hope.', 'popularity': 162.529, 'poster_path': '/9cqNxx0GxF0bflZmeSMuL5tnGzr.jpg', 'release_date': '1994-09-23', 'title': 'The Shawshank Redemption', 'video': False, 'vote_average': 8.704, 'vote_count': 25966}, {'adult': False, 'backdrop_path': '/tmU7GeKVybMWFButWEGl2M4GeiP.jpg', 'genre_ids': [18, 80], 'id': 238, 'original_language': 'en', 'original_title': 'The Godfather', 'overview': 'Spanning the years 1945 to 1955, a chronicle of the fictional Italian-American Corleone crime family. When organized crime family patriarch, Vito Corleone barely survives an attempt on his life, his youngest son, Michael steps in to take care of the would-be killers, launching a campaign of bloody revenge.', 'popularity': 97.264, 'poster_path': '/3bhkrj58Vtu7enYsRolD1fZdja1.jpg', 'release_date': '1972-03-14', 'title': 'The Godfather', 'video': False, 'vote_average': 8.695, 'vote_count': 19689}, {'adult': False, 'backdrop_path': '/kGzFbGhp99zva6oZODW5atUtnqi.jpg', 'genre_ids': [18, 80], 'id': 240, 'original_language': 'en', 'original_title': 'The Godfather Part II', 'overview': 'In the continuing saga of the Corleone crime family, a young Vito Corleone grows up in Sicily and in 1910s New York. In the 1950s, Michael Corleone attempts to expand the family business into Las Vegas, Hollywood and Cuba.', 'popularity': 78.853, 'poster_path': '/hek3koDUyRQk7FIhPXsa6mT2Zc3.jpg', 'release_date': '1974-12-20', 'title': 'The Godfather Part II', 'video': False, 'vote_average': 8.576, 'vote_count': 11892}]\n"
     ]
    }
   ],
   "source": [
    "print(movies[:3])"
   ]
  },
  {
   "cell_type": "markdown",
   "id": "29483140",
   "metadata": {},
   "source": [
    "## Understanding the Movie Genre\n",
    "\n",
    "Now we have our *Top Movies*, after printing the first three movies in our list, we can see we are given *genre_ids*. So we need to get another API to translate these ids into the names of the genres. \n",
    "\n",
    "To fetch this data, we can use the `/genre/movie/list` endpoint. Here we are querying that endpoint that lists all movie genres and we create a list of dictionaries."
   ]
  },
  {
   "cell_type": "code",
   "execution_count": 1,
   "id": "e2af82a3",
   "metadata": {},
   "outputs": [
    {
     "name": "stdout",
     "output_type": "stream",
     "text": [
      "[{'id': 28, 'name': 'Action'}, {'id': 12, 'name': 'Adventure'}, {'id': 16, 'name': 'Animation'}, {'id': 35, 'name': 'Comedy'}, {'id': 80, 'name': 'Crime'}, {'id': 99, 'name': 'Documentary'}, {'id': 18, 'name': 'Drama'}, {'id': 10751, 'name': 'Family'}, {'id': 14, 'name': 'Fantasy'}, {'id': 36, 'name': 'History'}, {'id': 27, 'name': 'Horror'}, {'id': 10402, 'name': 'Music'}, {'id': 9648, 'name': 'Mystery'}, {'id': 10749, 'name': 'Romance'}, {'id': 878, 'name': 'Science Fiction'}, {'id': 10770, 'name': 'TV Movie'}, {'id': 53, 'name': 'Thriller'}, {'id': 10752, 'name': 'War'}, {'id': 37, 'name': 'Western'}]\n"
     ]
    }
   ],
   "source": [
    "url = \"https://api.themoviedb.org/3/genre/movie/list?language=en\"\n",
    "\n",
    "headers = {\n",
    "    \"accept\": \"application/json\",\n",
    "    \"Authorization\": f\"Bearer {access}\"\n",
    "}\n",
    "\n",
    "response = requests.get(url, headers=headers)\n",
    "genres = list(json.loads(response.text).values())[0]\n",
    "print(genres)"
   ]
  },
  {
   "cell_type": "markdown",
   "id": "c5764967",
   "metadata": {},
   "source": [
    "## Creating the DataFrame\n",
    "\n",
    "Now we have our information for our top movies, we create our DataFrame. We begin by making lists of the information that we would like in our DataFrame from the dictionaries we have obtained. With analysis I may want to do in mind, I am taking the *id* of the movie, the movie *release_date*, the *vote_average*, movie *title*, *genre_ids*, movie *popularity* score and *vote_count*. \n",
    "\n",
    "I have created another for loop using the list of genres to rename all the *genre_ids* into the name of the genres for readibility. Finally, we can create the DataFrame with all the information from the lists we have obtained ensuring that python understands that release dates are dates using our datetime library. Then we have also sorted our movies by their release date."
   ]
  },
  {
   "cell_type": "code",
   "execution_count": 5,
   "id": "e7df7941",
   "metadata": {
    "scrolled": true
   },
   "outputs": [
    {
     "data": {
      "text/html": [
       "<div>\n",
       "<style scoped>\n",
       "    .dataframe tbody tr th:only-of-type {\n",
       "        vertical-align: middle;\n",
       "    }\n",
       "\n",
       "    .dataframe tbody tr th {\n",
       "        vertical-align: top;\n",
       "    }\n",
       "\n",
       "    .dataframe thead th {\n",
       "        text-align: right;\n",
       "    }\n",
       "</style>\n",
       "<table border=\"1\" class=\"dataframe\">\n",
       "  <thead>\n",
       "    <tr style=\"text-align: right;\">\n",
       "      <th></th>\n",
       "      <th>tmdb_id</th>\n",
       "      <th>movie_title</th>\n",
       "      <th>release_date</th>\n",
       "      <th>vote_count</th>\n",
       "      <th>average_score</th>\n",
       "      <th>popularity_score</th>\n",
       "      <th>genres</th>\n",
       "    </tr>\n",
       "  </thead>\n",
       "  <tbody>\n",
       "    <tr>\n",
       "      <th>0</th>\n",
       "      <td>775</td>\n",
       "      <td>A Trip to the Moon</td>\n",
       "      <td>1902-04-17</td>\n",
       "      <td>1687</td>\n",
       "      <td>7.931</td>\n",
       "      <td>20.315</td>\n",
       "      <td>[Adventure, Science Fiction]</td>\n",
       "    </tr>\n",
       "    <tr>\n",
       "      <th>1</th>\n",
       "      <td>234</td>\n",
       "      <td>The Cabinet of Dr. Caligari</td>\n",
       "      <td>1920-02-27</td>\n",
       "      <td>1480</td>\n",
       "      <td>7.946</td>\n",
       "      <td>18.525</td>\n",
       "      <td>[Drama, Horror, Thriller, Crime]</td>\n",
       "    </tr>\n",
       "    <tr>\n",
       "      <th>2</th>\n",
       "      <td>10098</td>\n",
       "      <td>The Kid</td>\n",
       "      <td>1921-01-21</td>\n",
       "      <td>1980</td>\n",
       "      <td>8.184</td>\n",
       "      <td>18.306</td>\n",
       "      <td>[Comedy, Drama]</td>\n",
       "    </tr>\n",
       "    <tr>\n",
       "      <th>3</th>\n",
       "      <td>653</td>\n",
       "      <td>Nosferatu</td>\n",
       "      <td>1922-02-16</td>\n",
       "      <td>1867</td>\n",
       "      <td>7.703</td>\n",
       "      <td>29.647</td>\n",
       "      <td>[Horror]</td>\n",
       "    </tr>\n",
       "    <tr>\n",
       "      <th>4</th>\n",
       "      <td>22596</td>\n",
       "      <td>Safety Last!</td>\n",
       "      <td>1923-04-01</td>\n",
       "      <td>465</td>\n",
       "      <td>7.762</td>\n",
       "      <td>8.897</td>\n",
       "      <td>[Comedy, Romance]</td>\n",
       "    </tr>\n",
       "    <tr>\n",
       "      <th>...</th>\n",
       "      <td>...</td>\n",
       "      <td>...</td>\n",
       "      <td>...</td>\n",
       "      <td>...</td>\n",
       "      <td>...</td>\n",
       "      <td>...</td>\n",
       "      <td>...</td>\n",
       "    </tr>\n",
       "    <tr>\n",
       "      <th>995</th>\n",
       "      <td>976893</td>\n",
       "      <td>Perfect Days</td>\n",
       "      <td>2023-11-10</td>\n",
       "      <td>642</td>\n",
       "      <td>7.900</td>\n",
       "      <td>99.017</td>\n",
       "      <td>[Drama]</td>\n",
       "    </tr>\n",
       "    <tr>\n",
       "      <th>996</th>\n",
       "      <td>792307</td>\n",
       "      <td>Poor Things</td>\n",
       "      <td>2023-12-07</td>\n",
       "      <td>3026</td>\n",
       "      <td>7.811</td>\n",
       "      <td>435.971</td>\n",
       "      <td>[Science Fiction, Romance, Comedy]</td>\n",
       "    </tr>\n",
       "    <tr>\n",
       "      <th>997</th>\n",
       "      <td>906126</td>\n",
       "      <td>Society of the Snow</td>\n",
       "      <td>2023-12-15</td>\n",
       "      <td>2429</td>\n",
       "      <td>8.069</td>\n",
       "      <td>88.672</td>\n",
       "      <td>[Drama, History]</td>\n",
       "    </tr>\n",
       "    <tr>\n",
       "      <th>998</th>\n",
       "      <td>850165</td>\n",
       "      <td>The Iron Claw</td>\n",
       "      <td>2023-12-21</td>\n",
       "      <td>423</td>\n",
       "      <td>7.600</td>\n",
       "      <td>75.562</td>\n",
       "      <td>[Drama, History]</td>\n",
       "    </tr>\n",
       "    <tr>\n",
       "      <th>999</th>\n",
       "      <td>693134</td>\n",
       "      <td>Dune: Part Two</td>\n",
       "      <td>2024-02-27</td>\n",
       "      <td>2640</td>\n",
       "      <td>8.326</td>\n",
       "      <td>3789.376</td>\n",
       "      <td>[Science Fiction, Adventure]</td>\n",
       "    </tr>\n",
       "  </tbody>\n",
       "</table>\n",
       "<p>1000 rows × 7 columns</p>\n",
       "</div>"
      ],
      "text/plain": [
       "     tmdb_id                  movie_title release_date  vote_count  \\\n",
       "0        775           A Trip to the Moon   1902-04-17        1687   \n",
       "1        234  The Cabinet of Dr. Caligari   1920-02-27        1480   \n",
       "2      10098                      The Kid   1921-01-21        1980   \n",
       "3        653                    Nosferatu   1922-02-16        1867   \n",
       "4      22596                 Safety Last!   1923-04-01         465   \n",
       "..       ...                          ...          ...         ...   \n",
       "995   976893                 Perfect Days   2023-11-10         642   \n",
       "996   792307                  Poor Things   2023-12-07        3026   \n",
       "997   906126          Society of the Snow   2023-12-15        2429   \n",
       "998   850165                The Iron Claw   2023-12-21         423   \n",
       "999   693134               Dune: Part Two   2024-02-27        2640   \n",
       "\n",
       "     average_score  popularity_score                              genres  \n",
       "0            7.931            20.315        [Adventure, Science Fiction]  \n",
       "1            7.946            18.525    [Drama, Horror, Thriller, Crime]  \n",
       "2            8.184            18.306                     [Comedy, Drama]  \n",
       "3            7.703            29.647                            [Horror]  \n",
       "4            7.762             8.897                   [Comedy, Romance]  \n",
       "..             ...               ...                                 ...  \n",
       "995          7.900            99.017                             [Drama]  \n",
       "996          7.811           435.971  [Science Fiction, Romance, Comedy]  \n",
       "997          8.069            88.672                    [Drama, History]  \n",
       "998          7.600            75.562                    [Drama, History]  \n",
       "999          8.326          3789.376        [Science Fiction, Adventure]  \n",
       "\n",
       "[1000 rows x 7 columns]"
      ]
     },
     "execution_count": 5,
     "metadata": {},
     "output_type": "execute_result"
    }
   ],
   "source": [
    "ids = []\n",
    "dates = []\n",
    "score = []\n",
    "title = []\n",
    "genre = []\n",
    "popularity = []\n",
    "vote = []\n",
    "\n",
    "#creating lists of information from movie dictionaries\n",
    "for movie in movies:\n",
    "    ids.append(movie['id'])\n",
    "    dates.append(movie['release_date'])\n",
    "    score.append(movie['vote_average'])\n",
    "    title.append(movie['title'])\n",
    "    genre.append(movie['genre_ids'])\n",
    "    popularity.append(movie['popularity'])\n",
    "    vote.append(movie['vote_count'])\n",
    "\n",
    "#converting genre id into the genre name\n",
    "for dic in genres:\n",
    "    for x, lis in enumerate(genre):\n",
    "        for i in range(0,len(lis)):\n",
    "            if lis[i] == dic['id']:\n",
    "                genre[x][i] = dic['name']\n",
    "            \n",
    "#creating the dataframe, ensuring dates are date type and movies in date order\n",
    "top_movies = pd.DataFrame(data={'tmdb_id':ids, 'movie_title':title, 'release_date':dates, 'vote_count':vote, 'average_score':score, 'popularity_score':popularity, 'genres':genre})\n",
    "top_movies['release_date'] = pd.to_datetime(top_movies['release_date'])\n",
    "top_movies = top_movies.sort_values(by='release_date').reset_index(drop=True)\n",
    "top_movies"
   ]
  },
  {
   "cell_type": "markdown",
   "id": "1fb1f231",
   "metadata": {},
   "source": [
    "## Understanding our DataFrame\n",
    "\n",
    "Before proceeding, it's important to ensure we understand what each column of the DataFrame represents;\n",
    "\n",
    "* **tmdb_id** - *The movie id on the TMDB website, this will be useful should we want to obtain more information about the movie from the website API*\n",
    "* **movie_title** - *The title of the movie*\n",
    "* **release_date** - *The date that the movie was released*\n",
    "* **vote_count** - *The number of votes that make up the average score of the film*\n",
    "* **average_score** - *The average score given by voters out of 10*\n",
    "* **popularity_score** - *The score that TMDB has given the film based on votes, views, number of users adding the movie to their 'favourite' or 'watchlist', total votes, release date and previous days score* ([source](https://developer.themoviedb.org/docs/popularity-and-trending#popularity))\n",
    "* **genres** - *The the genres that the film represents*"
   ]
  },
  {
   "cell_type": "markdown",
   "id": "db8bc074",
   "metadata": {},
   "source": [
    "## Cleaning our DataFrame\n",
    "\n",
    "Now we have a DataFrame, we can begin to ensure that we happy with the values we have before we save it.\n",
    "\n",
    "We have up to around 1,000 movies with no null values. We can also check that movies are not duplicated on multiple pages, we want to check both movie *tmdb_id* and *movie_title*, however, we can see that where there are duplicates in the titles, these films have different release dates and the *movie_id* are also different, meaning they should be different movies. In contradiction, when running this, I have seen Whiplash from 2013 and 2014, the 2013 movie is a short film. Also, Miracle in Cell No7 from 2013 and 2019, the 2013 version is the original Korean version and the 2019 versian is an Indonesian adaption. When we begin analysis, it would be important to manually review these duplicates and finding further details about the movies such as runtimes and original language to decide whether we want to include these movies.\n",
    "\n",
    "We are also checking that the format of each column is correct by checking the *dtypes*. We can see that the *tmdb_id* and *vote_count* are whole numbers, *average_score* and *popularity_score* are numbers, *movie_title* and *genres* are objects and *release_date* are datetimes. These are as we want them. "
   ]
  },
  {
   "cell_type": "code",
   "execution_count": 6,
   "id": "6b9dae68",
   "metadata": {},
   "outputs": [
    {
     "data": {
      "text/plain": [
       "1000"
      ]
     },
     "execution_count": 6,
     "metadata": {},
     "output_type": "execute_result"
    }
   ],
   "source": [
    "top_movies.tmdb_id.nunique()"
   ]
  },
  {
   "cell_type": "code",
   "execution_count": 7,
   "id": "9f8e79dd",
   "metadata": {},
   "outputs": [
    {
     "data": {
      "text/plain": [
       "tmdb_id             0\n",
       "movie_title         0\n",
       "release_date        0\n",
       "vote_count          0\n",
       "average_score       0\n",
       "popularity_score    0\n",
       "genres              0\n",
       "dtype: int64"
      ]
     },
     "execution_count": 7,
     "metadata": {},
     "output_type": "execute_result"
    }
   ],
   "source": [
    "top_movies.isnull().sum()"
   ]
  },
  {
   "cell_type": "code",
   "execution_count": 8,
   "id": "bacc468f",
   "metadata": {},
   "outputs": [
    {
     "name": "stdout",
     "output_type": "stream",
     "text": [
      "[]\n"
     ]
    }
   ],
   "source": [
    "uniquelist = []\n",
    "duplicatelist = []\n",
    "for i in top_movies.tmdb_id:\n",
    "    if i not in uniquelist:\n",
    "        uniquelist.append(i)\n",
    "    elif i not in duplicatelist:\n",
    "        duplicatelist.append(i)\n",
    "        \n",
    "print(duplicatelist)"
   ]
  },
  {
   "cell_type": "code",
   "execution_count": 9,
   "id": "9c817582",
   "metadata": {},
   "outputs": [
    {
     "name": "stdout",
     "output_type": "stream",
     "text": [
      "143 : All Quiet on the Western Front : 04/29/1930\n",
      "10835 : The Killer : 03/24/1989\n",
      "367412 : Whiplash : 01/18/2013\n",
      "158445 : Miracle in Cell No. 7 : 01/23/2013\n",
      "244786 : Whiplash : 10/10/2014\n",
      "637920 : Miracle in Cell No. 7 : 10/10/2019\n",
      "938008 : The Killer : 07/13/2022\n",
      "49046 : All Quiet on the Western Front : 10/07/2022\n",
      "['Whiplash', 'Miracle in Cell No. 7', 'The Killer', 'All Quiet on the Western Front']\n"
     ]
    }
   ],
   "source": [
    "uniquelist = []\n",
    "duplicatelist = []\n",
    "for i in top_movies.movie_title:\n",
    "    if i not in uniquelist:\n",
    "        uniquelist.append(i)\n",
    "    elif i not in duplicatelist:\n",
    "        duplicatelist.append(i)\n",
    "for x, i in enumerate(top_movies.movie_title):\n",
    "    if i in duplicatelist:\n",
    "        print(top_movies.iloc[x]['tmdb_id'],\":\", i, \":\", top_movies.iloc[x]['release_date'].strftime(\"%m/%d/%Y\"))\n",
    "print(duplicatelist)"
   ]
  },
  {
   "cell_type": "code",
   "execution_count": 10,
   "id": "286dae88",
   "metadata": {},
   "outputs": [
    {
     "data": {
      "text/plain": [
       "tmdb_id                      int64\n",
       "movie_title                 object\n",
       "release_date        datetime64[ns]\n",
       "vote_count                   int64\n",
       "average_score              float64\n",
       "popularity_score           float64\n",
       "genres                      object\n",
       "dtype: object"
      ]
     },
     "execution_count": 10,
     "metadata": {},
     "output_type": "execute_result"
    }
   ],
   "source": [
    "top_movies.dtypes"
   ]
  },
  {
   "cell_type": "markdown",
   "id": "f9f1c120",
   "metadata": {},
   "source": [
    "##  Saving the DataFrame \n",
    "\n",
    "Finally, I will save our DataFrame as csv file ready for analysis. Saving the DataFrame as csv before analysis means that when we re-run the code, the movies and scores that we have won't change, therefore any analysis we complete will stay relevant to the data that we have. We can always re-run the API and get the latest list of Top Movies to analyse and complete new analysis on the most current findings.  \n"
   ]
  },
  {
   "cell_type": "code",
   "execution_count": 11,
   "id": "da24ed3f",
   "metadata": {},
   "outputs": [],
   "source": [
    "top_movies.to_csv('Top_TMDB_Movies.csv', index=False)"
   ]
  },
  {
   "cell_type": "markdown",
   "id": "2a5de2af",
   "metadata": {},
   "source": [
    "## Conclusion\n",
    "\n",
    "We have created our DataFrame ready for analysis using an API request from the TMDB website. We have reviewed the data that there are no null values and the data is in the correct format ready for working with."
   ]
  },
  {
   "cell_type": "markdown",
   "id": "39ef7baa",
   "metadata": {},
   "source": [
    "### Data Source\n",
    "\n",
    "Movie data and API from:\n",
    "https://www.themoviedb.org/?language=en-GB \n",
    "\n",
    "API request limiting:\n",
    "https://developer.themoviedb.org/docs/rate-limiting"
   ]
  }
 ],
 "metadata": {
  "kernelspec": {
   "display_name": "Python 3 (ipykernel)",
   "language": "python",
   "name": "python3"
  }
 },
 "nbformat": 4,
 "nbformat_minor": 5
}
